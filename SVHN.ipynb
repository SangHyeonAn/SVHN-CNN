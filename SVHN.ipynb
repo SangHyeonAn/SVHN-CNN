{
  "nbformat": 4,
  "nbformat_minor": 0,
  "metadata": {
    "colab": {
      "name": "SVHN.ipynb",
      "version": "0.3.2",
      "provenance": [],
      "collapsed_sections": []
    },
    "kernelspec": {
      "name": "python3",
      "display_name": "Python 3"
    },
    "accelerator": "GPU"
  },
  "cells": [
    {
      "metadata": {
        "id": "zAR6MP-r7hYe",
        "colab_type": "text"
      },
      "cell_type": "markdown",
      "source": [
        "## Mount the Google Drive to Google Colab"
      ]
    },
    {
      "metadata": {
        "id": "aM-S9vAi7d2L",
        "colab_type": "code",
        "colab": {}
      },
      "cell_type": "code",
      "source": [
        "# from google.colab import drive\n",
        "# drive.mount('/content/gdrive')"
      ],
      "execution_count": 0,
      "outputs": []
    },
    {
      "metadata": {
        "id": "wFGre0F8zJ9x",
        "colab_type": "text"
      },
      "cell_type": "markdown",
      "source": [
        "Change directory to data set folder"
      ]
    },
    {
      "metadata": {
        "id": "AqMD69mH8bY1",
        "colab_type": "code",
        "outputId": "8236ec2c-17af-4f07-a7b6-87a6284e680e",
        "colab": {
          "base_uri": "https://localhost:8080/",
          "height": 35
        }
      },
      "cell_type": "code",
      "source": [
        "cd gdrive/My\\ Drive/Machine\\ Learning/Assign\\ 4"
      ],
      "execution_count": 2,
      "outputs": [
        {
          "output_type": "stream",
          "text": [
            "/content/gdrive/My Drive/Machine Learning/Assign 4\n"
          ],
          "name": "stdout"
        }
      ]
    },
    {
      "metadata": {
        "id": "5gtNqSPlzWXi",
        "colab_type": "text"
      },
      "cell_type": "markdown",
      "source": [
        "Download the data sets, only need to do once\n"
      ]
    },
    {
      "metadata": {
        "id": "zapXnXjM9TVn",
        "colab_type": "code",
        "colab": {}
      },
      "cell_type": "code",
      "source": [
        "# !wget --no-check-certificate \"http://ufldl.stanford.edu/housenumbers/train_32x32.mat\" -O \"train_32x32.mat\"\n",
        "# !wget --no-check-certificate \"http://ufldl.stanford.edu/housenumbers/test_32x32.mat\" -O \"test_32x32.mat\""
      ],
      "execution_count": 0,
      "outputs": []
    },
    {
      "metadata": {
        "id": "jbfLGncFzoN9",
        "colab_type": "text"
      },
      "cell_type": "markdown",
      "source": [
        "## Load & visulize the data"
      ]
    },
    {
      "metadata": {
        "id": "S-Z2uUA2-ndo",
        "colab_type": "code",
        "colab": {}
      },
      "cell_type": "code",
      "source": [
        "from scipy.io import loadmat\n",
        "\n",
        "train = loadmat('train_32x32.mat')\n",
        "test = loadmat('test_32x32.mat')\n",
        "\n",
        "# train and test are python dictionaries\n",
        "# keys are ['__header__', '__version__', '__globals__', 'X', 'y']\n",
        "\n",
        "X_train = train['X']\n",
        "y_train = train['y']\n",
        "X_test = test['X']\n",
        "y_test = test['y']\n",
        "\n",
        "# X and y are numpy ndarrays"
      ],
      "execution_count": 0,
      "outputs": []
    },
    {
      "metadata": {
        "id": "YXqLTQHR00vi",
        "colab_type": "text"
      },
      "cell_type": "markdown",
      "source": [
        "Get to know the dimensions of ndarrays"
      ]
    },
    {
      "metadata": {
        "id": "clPLlVJV-4V4",
        "colab_type": "code",
        "outputId": "540a3d13-715c-463a-9bd0-515117c9909c",
        "colab": {
          "base_uri": "https://localhost:8080/",
          "height": 86
        }
      },
      "cell_type": "code",
      "source": [
        "print(\"Shape of X_train is:\", X_train.shape)\n",
        "print(\"Shape of y_train is:\", y_train.shape)\n",
        "print(\"Shape of X_test is:\", X_test.shape)\n",
        "print(\"Shape of y_test is:\", y_test.shape)"
      ],
      "execution_count": 5,
      "outputs": [
        {
          "output_type": "stream",
          "text": [
            "Shape of X_train is: (32, 32, 3, 73257)\n",
            "Shape of y_train is: (73257, 1)\n",
            "Shape of X_test is: (32, 32, 3, 26032)\n",
            "Shape of y_test is: (26032, 1)\n"
          ],
          "name": "stdout"
        }
      ]
    },
    {
      "metadata": {
        "id": "_41rGZcI3JAN",
        "colab_type": "text"
      },
      "cell_type": "markdown",
      "source": [
        "Since we now know the structure of the data, we can  visulize our training images"
      ]
    },
    {
      "metadata": {
        "id": "TJONvnym2tkK",
        "colab_type": "code",
        "outputId": "c77474ea-5f37-4020-dcf7-492b845e36b2",
        "colab": {
          "base_uri": "https://localhost:8080/",
          "height": 280
        }
      },
      "cell_type": "code",
      "source": [
        "import matplotlib.pyplot as plt\n",
        "\n",
        "%matplotlib inline\n",
        "\n",
        "X_train = X_train[:,:,:,:]\n",
        "X_test = X_test[:,:,:,:]\n",
        "\n",
        "start = 50\n",
        "\n",
        "fig, ax = plt.subplots(3, 4)\n",
        "for row in range(3):\n",
        "    for col in range(4):\n",
        "        ax[row, col].imshow(X_train[:,:,:,start+row*3+col])\n",
        "        ax[row, col].axis('off')\n",
        "        ax[row, col].set_title('{}'.format(y_train[start+row*3+col, 0]))\n",
        "plt.show()"
      ],
      "execution_count": 6,
      "outputs": [
        {
          "output_type": "display_data",
          "data": {
            "image/png": "[encoded data removed]",
            "text/plain": [
              "<Figure size 432x288 with 12 Axes>"
            ]
          },
          "metadata": {
            "tags": []
          }
        }
      ]
    },
    {
      "metadata": {
        "id": "Njdyruh14kR8",
        "colab_type": "text"
      },
      "cell_type": "markdown",
      "source": [
        "## Data preprocessing"
      ]
    },
    {
      "metadata": {
        "id": "K1ldxz9h4rjL",
        "colab_type": "text"
      },
      "cell_type": "markdown",
      "source": [
        "Since TensorFlow requires the input shape to be (image_num, height, width, channel), we need to reshape our input data. "
      ]
    },
    {
      "metadata": {
        "id": "Vh-eUITY-5k2",
        "colab_type": "code",
        "outputId": "a7550b05-d83a-40b8-f758-4eb8c3a32012",
        "colab": {
          "base_uri": "https://localhost:8080/",
          "height": 52
        }
      },
      "cell_type": "code",
      "source": [
        "import numpy as np\n",
        "\n",
        "X_train = np.rollaxis(X_train, 3)\n",
        "X_test = np.rollaxis(X_test, 3)\n",
        "\n",
        "print(\"Shape of X_train is now:\", X_train.shape)\n",
        "print(\"Shape of X_test is now:\", X_test.shape)"
      ],
      "execution_count": 7,
      "outputs": [
        {
          "output_type": "stream",
          "text": [
            "Shape of X_train is now: (73257, 32, 32, 3)\n",
            "Shape of X_test is now: (26032, 32, 32, 3)\n"
          ],
          "name": "stdout"
        }
      ]
    },
    {
      "metadata": {
        "id": "60EyDhSG5qOw",
        "colab_type": "text"
      },
      "cell_type": "markdown",
      "source": [
        "We also need to reduce the dimension of our output array to one."
      ]
    },
    {
      "metadata": {
        "id": "Vq9VDwuF-9XS",
        "colab_type": "code",
        "outputId": "91e2b41a-3d28-4d0e-e2e6-c68487a9f818",
        "colab": {
          "base_uri": "https://localhost:8080/",
          "height": 52
        }
      },
      "cell_type": "code",
      "source": [
        "y_train = y_train[:,0]\n",
        "y_test = y_test[:,0]\n",
        "\n",
        "print(\"Shape of y_train is now:\", y_train.shape)\n",
        "print(\"Shape of y_test is now:\", y_test.shape)"
      ],
      "execution_count": 8,
      "outputs": [
        {
          "output_type": "stream",
          "text": [
            "Shape of y_train is now: (73257,)\n",
            "Shape of y_test is now: (26032,)\n"
          ],
          "name": "stdout"
        }
      ]
    },
    {
      "metadata": {
        "id": "mtN0PMNv6a-D",
        "colab_type": "text"
      },
      "cell_type": "markdown",
      "source": [
        "From the plot we know our data labels digit '0' to '10', we need to change it to '0'."
      ]
    },
    {
      "metadata": {
        "id": "dITRdsWeFEFq",
        "colab_type": "code",
        "outputId": "cde905b4-a2ff-47a0-f16e-3ba3a238e421",
        "colab": {
          "base_uri": "https://localhost:8080/",
          "height": 52
        }
      },
      "cell_type": "code",
      "source": [
        "y_train[y_train==10] = 0\n",
        "y_test[y_test==10] = 0\n",
        "\n",
        "print(\"labels of y_train are\", np.unique(y_train[:]))\n",
        "print(\"labels of y_test are\", np.unique(y_test[:]))"
      ],
      "execution_count": 9,
      "outputs": [
        {
          "output_type": "stream",
          "text": [
            "labels of y_train are [0 1 2 3 4 5 6 7 8 9]\n",
            "labels of y_test are [0 1 2 3 4 5 6 7 8 9]\n"
          ],
          "name": "stdout"
        }
      ]
    },
    {
      "metadata": {
        "id": "rGajYIoD7lPq",
        "colab_type": "text"
      },
      "cell_type": "markdown",
      "source": [
        "Also we noticed that some images contain mutiple digits, however the label only indicates the middle number. Thus we can crop the images to eliminate unnecessary information."
      ]
    },
    {
      "metadata": {
        "id": "ZD4sRHZi7bNA",
        "colab_type": "code",
        "outputId": "fa8e909d-8744-4560-d5e2-83fb6cc74b26",
        "colab": {
          "base_uri": "https://localhost:8080/",
          "height": 280
        }
      },
      "cell_type": "code",
      "source": [
        "X_train = X_train[:,:,7:24,:]\n",
        "X_test = X_test[:,:,7:24,:]\n",
        "\n",
        "# plot cropped images\n",
        "fig, ax = plt.subplots(3, 4)\n",
        "for row in range(3):\n",
        "    for col in range(4):\n",
        "        ax[row, col].imshow(X_train[start+row*3+col,:,:,:])\n",
        "        ax[row, col].axis('off')\n",
        "        ax[row, col].set_title('{}'.format(y_train[start+row*3+col]))\n",
        "plt.show()"
      ],
      "execution_count": 10,
      "outputs": [
        {
          "output_type": "display_data",
          "data": {
            "image/png": "[encoded data removed]",
            "text/plain": [
              "<Figure size 432x288 with 12 Axes>"
            ]
          },
          "metadata": {
            "tags": []
          }
        }
      ]
    },
    {
      "metadata": {
        "id": "uzZw75jr9Sjh",
        "colab_type": "text"
      },
      "cell_type": "markdown",
      "source": [
        "Finally we nomarlize our input data into range (0, 1)"
      ]
    },
    {
      "metadata": {
        "id": "BlsMXM-oCRZy",
        "colab_type": "code",
        "colab": {}
      },
      "cell_type": "code",
      "source": [
        "X_train = X_train / 255\n",
        "X_test = X_test / 255"
      ],
      "execution_count": 0,
      "outputs": []
    },
    {
      "metadata": {
        "id": "zqHvdyqr9-OL",
        "colab_type": "text"
      },
      "cell_type": "markdown",
      "source": [
        "## Build the model"
      ]
    },
    {
      "metadata": {
        "id": "0vteP2wn_Eeh",
        "colab_type": "code",
        "outputId": "b8442ddc-0a8a-4dda-a4f9-1af262ebf4d5",
        "colab": {
          "base_uri": "https://localhost:8080/",
          "height": 676
        }
      },
      "cell_type": "code",
      "source": [
        "from tensorflow.keras.models import Sequential\n",
        "from tensorflow.keras.layers import Conv2D\n",
        "from tensorflow.keras.layers import MaxPooling2D\n",
        "from tensorflow.keras.layers import Flatten\n",
        "from tensorflow.keras.layers import Dense\n",
        "from tensorflow.keras.layers import Dropout\n",
        "\n",
        "\n",
        "model = Sequential([\n",
        "    Conv2D(32, (3,3), activation='relu', input_shape=(32, 17, 3)),\n",
        "    Conv2D(32, (3,3), activation='relu'),\n",
        "    MaxPooling2D(2, 2),\n",
        "    Dropout(0.3),\n",
        "    Conv2D(64, (3,3), activation='relu'),\n",
        "    Conv2D(64, (3,3), activation='relu'),\n",
        "    MaxPooling2D(2, 2),\n",
        "    Dropout(0.3),\n",
        "    Flatten(),\n",
        "    Dense(512, activation='relu'),\n",
        "    Dropout(0.3),\n",
        "    Dense(10, activation='softmax')\n",
        "])\n",
        "\n",
        "# get a summary of our built model\n",
        "model.summary()"
      ],
      "execution_count": 12,
      "outputs": [
        {
          "output_type": "stream",
          "text": [
            "WARNING:tensorflow:From /usr/local/lib/python3.6/dist-packages/tensorflow/python/ops/resource_variable_ops.py:435: colocate_with (from tensorflow.python.framework.ops) is deprecated and will be removed in a future version.\n",
            "Instructions for updating:\n",
            "Colocations handled automatically by placer.\n",
            "WARNING:tensorflow:From /usr/local/lib/python3.6/dist-packages/tensorflow/python/keras/layers/core.py:143: calling dropout (from tensorflow.python.ops.nn_ops) with keep_prob is deprecated and will be removed in a future version.\n",
            "Instructions for updating:\n",
            "Please use `rate` instead of `keep_prob`. Rate should be set to `rate = 1 - keep_prob`.\n",
            "_________________________________________________________________\n",
            "Layer (type)                 Output Shape              Param #   \n",
            "=================================================================\n",
            "conv2d (Conv2D)              (None, 30, 15, 32)        896       \n",
            "_________________________________________________________________\n",
            "conv2d_1 (Conv2D)            (None, 28, 13, 32)        9248      \n",
            "_________________________________________________________________\n",
            "max_pooling2d (MaxPooling2D) (None, 14, 6, 32)         0         \n",
            "_________________________________________________________________\n",
            "dropout (Dropout)            (None, 14, 6, 32)         0         \n",
            "_________________________________________________________________\n",
            "conv2d_2 (Conv2D)            (None, 12, 4, 64)         18496     \n",
            "_________________________________________________________________\n",
            "conv2d_3 (Conv2D)            (None, 10, 2, 64)         36928     \n",
            "_________________________________________________________________\n",
            "max_pooling2d_1 (MaxPooling2 (None, 5, 1, 64)          0         \n",
            "_________________________________________________________________\n",
            "dropout_1 (Dropout)          (None, 5, 1, 64)          0         \n",
            "_________________________________________________________________\n",
            "flatten (Flatten)            (None, 320)               0         \n",
            "_________________________________________________________________\n",
            "dense (Dense)                (None, 512)               164352    \n",
            "_________________________________________________________________\n",
            "dropout_2 (Dropout)          (None, 512)               0         \n",
            "_________________________________________________________________\n",
            "dense_1 (Dense)              (None, 10)                5130      \n",
            "=================================================================\n",
            "Total params: 235,050\n",
            "Trainable params: 235,050\n",
            "Non-trainable params: 0\n",
            "_________________________________________________________________\n"
          ],
          "name": "stdout"
        }
      ]
    },
    {
      "metadata": {
        "id": "sALOgPm7QuCl",
        "colab_type": "text"
      },
      "cell_type": "markdown",
      "source": [
        "## Configure training parameters"
      ]
    },
    {
      "metadata": {
        "id": "ZdfAHoiT_H1K",
        "colab_type": "code",
        "colab": {}
      },
      "cell_type": "code",
      "source": [
        "# define the optimizer, loss function and metrics for the network\n",
        "model.compile(optimizer='adam',\n",
        "              loss='sparse_categorical_crossentropy',\n",
        "              metrics=['accuracy'])"
      ],
      "execution_count": 0,
      "outputs": []
    },
    {
      "metadata": {
        "id": "CFLNyhl_Q9Nn",
        "colab_type": "text"
      },
      "cell_type": "markdown",
      "source": [
        "## Train the model"
      ]
    },
    {
      "metadata": {
        "id": "K9MO144vRJbe",
        "colab_type": "code",
        "outputId": "5efc1884-c627-424f-d908-6369368553d0",
        "colab": {
          "base_uri": "https://localhost:8080/",
          "height": 380
        }
      },
      "cell_type": "code",
      "source": [
        "# start training\n",
        "model.fit(X_train, y_train, epochs=10)"
      ],
      "execution_count": 14,
      "outputs": [
        {
          "output_type": "stream",
          "text": [
            "Epoch 1/10\n",
            "73257/73257 [==============================] - 23s 318us/sample - loss: 0.9156 - acc: 0.7035\n",
            "Epoch 2/10\n",
            "73257/73257 [==============================] - 22s 302us/sample - loss: 0.5169 - acc: 0.8406\n",
            "Epoch 3/10\n",
            "73257/73257 [==============================] - 22s 303us/sample - loss: 0.4546 - acc: 0.8622\n",
            "Epoch 4/10\n",
            "73257/73257 [==============================] - 22s 302us/sample - loss: 0.4217 - acc: 0.8705\n",
            "Epoch 5/10\n",
            "73257/73257 [==============================] - 22s 303us/sample - loss: 0.3976 - acc: 0.8790\n",
            "Epoch 6/10\n",
            "73257/73257 [==============================] - 22s 298us/sample - loss: 0.3878 - acc: 0.8815\n",
            "Epoch 7/10\n",
            "73257/73257 [==============================] - 22s 299us/sample - loss: 0.3761 - acc: 0.8858\n",
            "Epoch 8/10\n",
            "73257/73257 [==============================] - 22s 298us/sample - loss: 0.3653 - acc: 0.8892\n",
            "Epoch 9/10\n",
            "73257/73257 [==============================] - 22s 300us/sample - loss: 0.3585 - acc: 0.8917\n",
            "Epoch 10/10\n",
            "73257/73257 [==============================] - 22s 299us/sample - loss: 0.3469 - acc: 0.8956\n"
          ],
          "name": "stdout"
        },
        {
          "output_type": "execute_result",
          "data": {
            "text/plain": [
              "<tensorflow.python.keras.callbacks.History at 0x7f16396aa710>"
            ]
          },
          "metadata": {
            "tags": []
          },
          "execution_count": 14
        }
      ]
    },
    {
      "metadata": {
        "id": "41gajBcV-l7E",
        "colab_type": "text"
      },
      "cell_type": "markdown",
      "source": [
        "## Model evaluation"
      ]
    },
    {
      "metadata": {
        "id": "A_mKLD1Q_LA4",
        "colab_type": "code",
        "colab": {
          "base_uri": "https://localhost:8080/",
          "height": 52
        },
        "outputId": "35909c08-0ec0-445d-fe59-846411d9a78d"
      },
      "cell_type": "code",
      "source": [
        "loss, acc = model.evaluate(X_test, y_test)\n",
        "print(\"Model accuracy on test data is: {:6.3f}%\".format(100 * acc))"
      ],
      "execution_count": 15,
      "outputs": [
        {
          "output_type": "stream",
          "text": [
            "26032/26032 [==============================] - 3s 122us/sample - loss: 0.2997 - acc: 0.9151\n",
            "Model accuracy on test data is: 91.514%\n"
          ],
          "name": "stdout"
        }
      ]
    },
    {
      "metadata": {
        "id": "WWVfU8cSQWsL",
        "colab_type": "text"
      },
      "cell_type": "markdown",
      "source": [
        "## Save the model"
      ]
    },
    {
      "metadata": {
        "id": "DJeJtPxHOcGO",
        "colab_type": "code",
        "colab": {}
      },
      "cell_type": "code",
      "source": [
        "model.save('my_model.h5')"
      ],
      "execution_count": 0,
      "outputs": []
    }
  ]
}